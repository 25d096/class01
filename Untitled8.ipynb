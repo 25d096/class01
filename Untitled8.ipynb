{
  "nbformat": 4,
  "nbformat_minor": 0,
  "metadata": {
    "colab": {
      "provenance": [],
      "authorship_tag": "ABX9TyOnA+jf3nKXwnJSvqJGv0wK",
      "include_colab_link": true
    },
    "kernelspec": {
      "name": "python3",
      "display_name": "Python 3"
    },
    "language_info": {
      "name": "python"
    }
  },
  "cells": [
    {
      "cell_type": "markdown",
      "metadata": {
        "id": "view-in-github",
        "colab_type": "text"
      },
      "source": [
        "<a href=\"https://colab.research.google.com/github/25d096/class01/blob/main/Untitled8.ipynb\" target=\"_parent\"><img src=\"https://colab.research.google.com/assets/colab-badge.svg\" alt=\"Open In Colab\"/></a>"
      ]
    },
    {
      "cell_type": "code",
      "execution_count": 2,
      "metadata": {
        "colab": {
          "base_uri": "https://localhost:8080/"
        },
        "id": "YHE5NawkeIdX",
        "outputId": "7e9330ab-8df4-4021-8bd0-79aeb4c93345"
      },
      "outputs": [
        {
          "output_type": "stream",
          "name": "stdout",
          "text": [
            "처음 값을 입력해주세요: 2\n",
            "두번째 값을 입력해주세요: 3\n",
            "두 값의 합은: 5.0\n"
          ]
        }
      ],
      "source": [
        "# prompt: 처음의 입력한 값과 두번째로 입력한 값을 물어보고, 그 값을 더한 값을 출력해줘\n",
        "\n",
        "value1 = input(\"처음 값을 입력해주세요: \")\n",
        "value2 = input(\"두번째 값을 입력해주세요: \")\n",
        "\n",
        "try:\n",
        "    num1 = float(value1)\n",
        "    num2 = float(value2)\n",
        "    result = num1 + num2\n",
        "    print(f\"두 값의 합은: {result}\")\n",
        "except ValueError:\n",
        "    print(\"올바른 숫자를 입력해주세요.\")"
      ]
    }
  ]
}