{
  "nbformat": 4,
  "nbformat_minor": 0,
  "metadata": {
    "colab": {
      "provenance": [],
      "authorship_tag": "ABX9TyO5w2shuSa0Dbk6pEQuan/R",
      "include_colab_link": true
    },
    "kernelspec": {
      "name": "python3",
      "display_name": "Python 3"
    },
    "language_info": {
      "name": "python"
    }
  },
  "cells": [
    {
      "cell_type": "markdown",
      "metadata": {
        "id": "view-in-github",
        "colab_type": "text"
      },
      "source": [
        "<a href=\"https://colab.research.google.com/github/25d096/class01/blob/main/python%EB%AC%B8%EB%B2%95.ipynb\" target=\"_parent\"><img src=\"https://colab.research.google.com/assets/colab-badge.svg\" alt=\"Open In Colab\"/></a>"
      ]
    },
    {
      "cell_type": "code",
      "execution_count": null,
      "metadata": {
        "id": "b3sIIpx-IkYK"
      },
      "outputs": [],
      "source": [
        "# prompt: 1학년 수준의 덧셈게임을 만들어줘. 틀리거나 맞으면 응원과 칭찬도 해주고, 칭찬과 응원은 매법 다르게. 멈추고 싶으면 멈추게하는기능도 부탁해.\n",
        "\n",
        "import random\n",
        "\n",
        "def addition_game():\n",
        "    print(\"1학년 수준의 덧셈 게임을 시작합니다! 멈추고 싶으면 'q'를 입력하세요.\")\n",
        "\n",
        "    praise_messages = [\n",
        "        \"와! 정말 잘했어요!\", \"멋지네요! 답이 맞아요!\", \"훌륭해요! 계속 이렇게 풀어보세요!\",\n",
        "        \"정답입니다! 칭찬해!\", \"우와! 천재인가요?\", \"대단해요! 다음 문제도 기대할게요!\"\n",
        "    ]\n",
        "    encouragement_messages = [\n",
        "        \"포기하지 말고 다시 시도해봐요!\", \"괜찮아요! 다음 문제는 잘 할 수 있을 거예요.\",\n",
        "        \"조금만 더 집중해보면 답을 찾을 수 있을 거예요!\", \"힘내세요! 할 수 있어요!\",\n",
        "        \"실수는 누구나 해요. 다음 문제를 풀어봐요!\"\n",
        "    ]\n",
        "\n",
        "    while True:\n",
        "        num1 = random.randint(1, 50)\n",
        "        num2 = random.randint(1, 50)\n",
        "        correct_answer = num1 + num2\n",
        "\n",
        "        user_answer = input(f\"{num1} + {num2} = ? \")\n",
        "\n",
        "        if user_answer.lower() == 'q':\n",
        "            print(\"게임을 종료합니다.\")\n",
        "            break\n",
        "\n",
        "        try:\n",
        "            user_answer = int(user_answer)\n",
        "            if user_answer == correct_answer:\n",
        "                print(random.choice(praise_messages))\n",
        "            else:\n",
        "                print(f\"아쉬워요. 정답은 {correct_answer}입니다. {random.choice(encouragement_messages)}\")\n",
        "        except ValueError:\n",
        "            print(\"숫자를 입력해주세요.\")\n",
        "\n",
        "if __name__ == \"__main__\":\n",
        "    addition_game()\n"
      ]
    }
  ]
}