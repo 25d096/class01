{
  "nbformat": 4,
  "nbformat_minor": 0,
  "metadata": {
    "colab": {
      "provenance": [],
      "authorship_tag": "ABX9TyPsFEwRSQoGkNKp/4xiSXHA",
      "include_colab_link": true
    },
    "kernelspec": {
      "name": "python3",
      "display_name": "Python 3"
    },
    "language_info": {
      "name": "python"
    }
  },
  "cells": [
    {
      "cell_type": "markdown",
      "metadata": {
        "id": "view-in-github",
        "colab_type": "text"
      },
      "source": [
        "<a href=\"https://colab.research.google.com/github/25d096/class01/blob/main/Untitled4.ipynb\" target=\"_parent\"><img src=\"https://colab.research.google.com/assets/colab-badge.svg\" alt=\"Open In Colab\"/></a>"
      ]
    },
    {
      "cell_type": "code",
      "execution_count": 7,
      "metadata": {
        "colab": {
          "base_uri": "https://localhost:8080/"
        },
        "id": "eF8vmR9aPJi7",
        "outputId": "c565c894-59b2-46fe-e2d0-5bebe0223434"
      },
      "outputs": [
        {
          "output_type": "stream",
          "name": "stdout",
          "text": [
            "이름이 무엇인가요? 다온\n",
            "다온님, 무슨 색을 좋아하시나요? 파랑\n",
            "다온님은 파랑색을 좋아하는군요. 정말 멋진 색이에요! 저도 파랑색을 좋아한답니다.\n"
          ]
        }
      ],
      "source": [
        "# prompt: 이름을 물어보고, 그 이름을 부르며 무슨 색을 좋아하는 지 물어봐. 그리고 그 값으로 마지막에 ㅇㅇ이는 ㅇㅇ색을 좋아하는구나. 라고 출력해줘. 그리고 그 색을 칭찬하며 공감해줘.\n",
        "\n",
        "name = input(\"이름이 무엇인가요? \")\n",
        "color = input(f\"{name}님, 무슨 색을 좋아하시나요? \")\n",
        "\n",
        "print(f\"{name}님은 {color}색을 좋아하는군요. 정말 멋진 색이에요! 저도 {color}색을 좋아한답니다.\")"
      ]
    }
  ]
}