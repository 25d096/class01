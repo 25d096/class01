{
  "nbformat": 4,
  "nbformat_minor": 0,
  "metadata": {
    "colab": {
      "provenance": [],
      "authorship_tag": "ABX9TyM0iFWMd7mBlz/T/JA6cl9R",
      "include_colab_link": true
    },
    "kernelspec": {
      "name": "python3",
      "display_name": "Python 3"
    },
    "language_info": {
      "name": "python"
    }
  },
  "cells": [
    {
      "cell_type": "markdown",
      "metadata": {
        "id": "view-in-github",
        "colab_type": "text"
      },
      "source": [
        "<a href=\"https://colab.research.google.com/github/25d096/class01/blob/main/Untitled4.ipynb\" target=\"_parent\"><img src=\"https://colab.research.google.com/assets/colab-badge.svg\" alt=\"Open In Colab\"/></a>"
      ]
    },
    {
      "cell_type": "code",
      "execution_count": 5,
      "metadata": {
        "colab": {
          "base_uri": "https://localhost:8080/"
        },
        "id": "eF8vmR9aPJi7",
        "outputId": "f8461f06-e6c5-4c5f-d46a-b2290fbdb755"
      },
      "outputs": [
        {
          "output_type": "stream",
          "name": "stdout",
          "text": [
            "첫 번째 숫자를 입력하세요: 5\n",
            "두 번째 숫자를 입력하세요: 6\n",
            "두 숫자의 합계는: 11.0\n"
          ]
        }
      ],
      "source": [
        "# prompt: 처음에 입력한 값과 두번쨰로 입력한 값을 받고, 그 값을 더한 값을 출력하게 해줘! 근데 조금 더 기능을 추가해줘! 숫자가 아니면 오류라고 뜨는 것 같이.\n",
        "\n",
        "while True:\n",
        "  try:\n",
        "    num1 = input(\"첫 번째 숫자를 입력하세요: \")\n",
        "    num1 = float(num1) # Convert to float to handle decimals\n",
        "    break\n",
        "  except ValueError:\n",
        "    print(\"오류: 숫자가 아닙니다. 다시 입력해주세요.\")\n",
        "\n",
        "while True:\n",
        "  try:\n",
        "    num2 = input(\"두 번째 숫자를 입력하세요: \")\n",
        "    num2 = float(num2) # Convert to float\n",
        "    break\n",
        "  except ValueError:\n",
        "    print(\"오류: 숫자가 아닙니다. 다시 입력해주세요.\")\n",
        "\n",
        "result = num1 + num2\n",
        "print(f\"두 숫자의 합계는: {result}\")"
      ]
    }
  ]
}