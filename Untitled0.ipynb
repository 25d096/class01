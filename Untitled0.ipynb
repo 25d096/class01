{
  "nbformat": 4,
  "nbformat_minor": 0,
  "metadata": {
    "colab": {
      "provenance": [],
      "authorship_tag": "ABX9TyPC+2Wop3CiYDxraa8XYlmH",
      "include_colab_link": true
    },
    "kernelspec": {
      "name": "python3",
      "display_name": "Python 3"
    },
    "language_info": {
      "name": "python"
    }
  },
  "cells": [
    {
      "cell_type": "markdown",
      "metadata": {
        "id": "view-in-github",
        "colab_type": "text"
      },
      "source": [
        "<a href=\"https://colab.research.google.com/github/25d096/class01/blob/main/Untitled0.ipynb\" target=\"_parent\"><img src=\"https://colab.research.google.com/assets/colab-badge.svg\" alt=\"Open In Colab\"/></a>"
      ]
    },
    {
      "cell_type": "code",
      "execution_count": null,
      "metadata": {
        "id": "vdWhjldUAlI2"
      },
      "outputs": [],
      "source": [
        "# prompt: 간단한 숫자게임 하나 만들어줘.\n",
        "\n",
        "import random\n",
        "\n",
        "def number_guessing_game():\n",
        "  \"\"\"A simple number guessing game.\"\"\"\n",
        "\n",
        "  secret_number = random.randint(1, 100)\n",
        "  guesses_left = 7\n",
        "\n",
        "  print(\"숫자 맞추기 게임에 오신 것을 환영합니다!\")\n",
        "  print(\"1부터 100까지의 숫자를 맞춰보세요. 7번의 기회가 주어집니다.\")\n",
        "\n",
        "  while guesses_left > 0:\n",
        "    try:\n",
        "      guess = int(input(f\"남은 기회: {guesses_left}번. 숫자를 입력하세요: \"))\n",
        "    except ValueError:\n",
        "      print(\"숫자를 입력해주세요.\")\n",
        "      continue\n",
        "\n",
        "    if guess < secret_number:\n",
        "      print(\"너무 낮아요!\")\n",
        "    elif guess > secret_number:\n",
        "      print(\"너무 높아요!\")\n",
        "    else:\n",
        "      print(f\"정답입니다! {secret_number}를 맞추셨어요.\")\n",
        "      return\n",
        "\n",
        "    guesses_left -= 1\n",
        "\n",
        "  print(f\"기회를 모두 소진했습니다. 정답은 {secret_number}였습니다.\")\n",
        "\n",
        "if __name__ == \"__main__\":\n",
        "  number_guessing_game()\n"
      ]
    }
  ]
}