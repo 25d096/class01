{
  "nbformat": 4,
  "nbformat_minor": 0,
  "metadata": {
    "colab": {
      "provenance": [],
      "authorship_tag": "ABX9TyP6umJdNGH1kFNV0uelsLaX",
      "include_colab_link": true
    },
    "kernelspec": {
      "name": "python3",
      "display_name": "Python 3"
    },
    "language_info": {
      "name": "python"
    }
  },
  "cells": [
    {
      "cell_type": "markdown",
      "metadata": {
        "id": "view-in-github",
        "colab_type": "text"
      },
      "source": [
        "<a href=\"https://colab.research.google.com/github/25d096/class01/blob/main/Untitled6.ipynb\" target=\"_parent\"><img src=\"https://colab.research.google.com/assets/colab-badge.svg\" alt=\"Open In Colab\"/></a>"
      ]
    },
    {
      "cell_type": "code",
      "source": [],
      "metadata": {
        "id": "2XRtMTkbaKdt"
      },
      "execution_count": null,
      "outputs": []
    },
    {
      "cell_type": "code",
      "execution_count": 1,
      "metadata": {
        "colab": {
          "base_uri": "https://localhost:8080/"
        },
        "id": "wjiHdaNtYrd9",
        "outputId": "b2bb8524-9e64-4861-d359-7545cf40510d"
      },
      "outputs": [
        {
          "output_type": "stream",
          "name": "stdout",
          "text": [
            ". . . . . . . . . .\n",
            ". . . . . . . . . .\n",
            ". . . . . . . . . .\n",
            ". . . R . . . . . .\n",
            ". . . . . . . . . .\n",
            ". . . . . . . . . .\n",
            ". . . . . . . . . .\n",
            ". . . . . . . . . .\n",
            ". . . . . . . . . .\n",
            ". . . . . . . . . .\n",
            "-------------------\n",
            "Simulation finished.\n"
          ]
        }
      ],
      "source": [
        "# prompt: 정사각형의 모양을 그리며 움직이는 로봇청소기를 만들어줘.\n",
        "\n",
        "from IPython.display import display, clear_output\n",
        "import time\n",
        "\n",
        "class VacuumRobot:\n",
        "    def __init__(self, initial_x, initial_y, grid_size=10):\n",
        "        self.x = initial_x\n",
        "        self.y = initial_y\n",
        "        self.grid_size = grid_size\n",
        "        self.direction = 0  # 0: right, 1: down, 2: left, 3: up\n",
        "        self.steps_taken = 0\n",
        "        self.side_length = 3 # Length of the square side\n",
        "\n",
        "    def move(self):\n",
        "        if self.direction == 0: # Right\n",
        "            if self.steps_taken < self.side_length:\n",
        "                self.x += 1\n",
        "                self.steps_taken += 1\n",
        "            else:\n",
        "                self.direction = 1 # Change to down\n",
        "                self.steps_taken = 0\n",
        "        elif self.direction == 1: # Down\n",
        "            if self.steps_taken < self.side_length:\n",
        "                self.y += 1\n",
        "                self.steps_taken += 1\n",
        "            else:\n",
        "                self.direction = 2 # Change to left\n",
        "                self.steps_taken = 0\n",
        "        elif self.direction == 2: # Left\n",
        "            if self.steps_taken < self.side_length:\n",
        "                self.x -= 1\n",
        "                self.steps_taken += 1\n",
        "            else:\n",
        "                self.direction = 3 # Change to up\n",
        "                self.steps_taken = 0\n",
        "        elif self.direction == 3: # Up\n",
        "            if self.steps_taken < self.side_length:\n",
        "                self.y -= 1\n",
        "                self.steps_taken += 1\n",
        "            else:\n",
        "                self.direction = 0 # Change to right, complete one square\n",
        "                self.steps_taken = 0\n",
        "\n",
        "    def display_grid(self):\n",
        "        grid = [['.' for _ in range(self.grid_size)] for _ in range(self.grid_size)]\n",
        "        if 0 <= self.x < self.grid_size and 0 <= self.y < self.grid_size:\n",
        "            grid[self.y][self.x] = 'R' # Represent robot with 'R'\n",
        "        else:\n",
        "            print(\"Robot is outside the grid!\")\n",
        "\n",
        "        for row in grid:\n",
        "            print(\" \".join(row))\n",
        "        print(\"-\" * (self.grid_size * 2 - 1))\n",
        "\n",
        "\n",
        "# Create a robot instance starting at (0, 0)\n",
        "robot = VacuumRobot(0, 0)\n",
        "\n",
        "# Simulate movement for a few square cycles\n",
        "num_squares_to_draw = 2\n",
        "steps_per_square = robot.side_length * 4 # Steps to complete one square (move, turn, move, turn... 4 times)\n",
        "\n",
        "for step_count in range(steps_per_square * num_squares_to_draw):\n",
        "    clear_output(wait=True)\n",
        "    robot.display_grid()\n",
        "    robot.move()\n",
        "    time.sleep(0.5) # Pause to see the movement\n",
        "\n",
        "clear_output(wait=True)\n",
        "robot.display_grid()\n",
        "print(\"Simulation finished.\")\n"
      ]
    }
  ]
}