{
  "nbformat": 4,
  "nbformat_minor": 0,
  "metadata": {
    "colab": {
      "provenance": [],
      "authorship_tag": "ABX9TyPpCS3M5Zt5+NkIkMRQD90F",
      "include_colab_link": true
    },
    "kernelspec": {
      "name": "python3",
      "display_name": "Python 3"
    },
    "language_info": {
      "name": "python"
    }
  },
  "cells": [
    {
      "cell_type": "markdown",
      "metadata": {
        "id": "view-in-github",
        "colab_type": "text"
      },
      "source": [
        "<a href=\"https://colab.research.google.com/github/25d096/class01/blob/main/Untitled6.ipynb\" target=\"_parent\"><img src=\"https://colab.research.google.com/assets/colab-badge.svg\" alt=\"Open In Colab\"/></a>"
      ]
    },
    {
      "cell_type": "code",
      "source": [],
      "metadata": {
        "id": "2XRtMTkbaKdt"
      },
      "execution_count": null,
      "outputs": []
    },
    {
      "cell_type": "code",
      "execution_count": null,
      "metadata": {
        "colab": {
          "base_uri": "https://localhost:8080/"
        },
        "id": "wjiHdaNtYrd9",
        "outputId": "8c5d73db-2bce-45a2-e078-2234f8674985"
      },
      "outputs": [
        {
          "output_type": "stream",
          "name": "stdout",
          "text": [
            "Side: 4, Step: 7\n",
            "                   \n",
            "                   \n",
            "🤖                  \n",
            "                   \n",
            "                   \n",
            "                   \n",
            "                   \n",
            "                   \n",
            "                   \n",
            "                   \n",
            "--------------------\n"
          ]
        }
      ],
      "source": [
        "# prompt: 엔트리에 나오는 반복구조의 코드를 짜줘. 움직이는 로봇청소기로. *로봇청소기가 정사각형으로 움직이는 게 보이게 부탁해.*\n",
        "\n",
        "from IPython.display import display, clear_output\n",
        "import time\n",
        "\n",
        "# Define the size of the grid\n",
        "grid_size = 10\n",
        "\n",
        "# Define the starting position and direction of the robot\n",
        "robot_x = 0\n",
        "robot_y = 0\n",
        "direction = 0  # 0: right, 1: down, 2: left, 3: up\n",
        "\n",
        "# Define the number of steps for each side of the square\n",
        "steps_per_side = grid_size - 1\n",
        "\n",
        "# Function to print the grid with the robot\n",
        "def print_grid(x, y):\n",
        "    grid = [[' ' for _ in range(grid_size)] for _ in range(grid_size)]\n",
        "    grid[y][x] = '🤖'  # Use an emoji for the robot\n",
        "    for row in grid:\n",
        "        print(' '.join(row))\n",
        "    print('-' * (grid_size * 2)) # Separator line\n",
        "\n",
        "# Simulation loop for the square\n",
        "for side in range(4):  # 4 sides for a square\n",
        "    for step in range(steps_per_side):\n",
        "        # Move the robot based on the current direction\n",
        "        if direction == 0:  # Right\n",
        "            robot_x += 1\n",
        "        elif direction == 1: # Down\n",
        "            robot_y += 1\n",
        "        elif direction == 2: # Left\n",
        "            robot_x -= 1\n",
        "        elif direction == 3: # Up\n",
        "            robot_y -= 1\n",
        "\n",
        "        # Clear the previous output and print the current state\n",
        "        clear_output(wait=True)\n",
        "        print(f\"Side: {side + 1}, Step: {step + 1}\")\n",
        "        print_grid(robot_x, robot_y)\n",
        "        time.sleep(0.5)  # Wait for 0.5 seconds to see the movement\n",
        "\n",
        "    # Change direction after completing one side\n",
        "    direction = (direction + 1) % 4\n",
        "\n"
      ]
    },
    {
      "cell_type": "markdown",
      "source": [],
      "metadata": {
        "id": "n47JngRtblrX"
      }
    }
  ]
}